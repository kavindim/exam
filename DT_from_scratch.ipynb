{
 "cells": [
  {
   "cell_type": "markdown",
   "id": "73cd47ce-01e9-470f-b618-f723695a9e76",
   "metadata": {},
   "source": [
    "## Practice: Decision tree from scratch (well, we hope!)"
   ]
  },
  {
   "cell_type": "markdown",
   "id": "776c42dc-7a82-466b-99ba-e7797f69cab2",
   "metadata": {},
   "source": [
    "### Part 1\n",
    "- create random list of 5 integers\n",
    " - create a function that will find the split values by\n",
    "     - sorting the list from lowest to highest value\n",
    "     - finding the midpoint for each consecutive pair of values\n",
    "     - returning midpoints as a list\n",
    " - create new random list of 5 integers and test your split values function "
   ]
  },
  {
   "cell_type": "markdown",
   "id": "cd9b9dd9-3a96-4b3b-8ed3-218e7eb0c782",
   "metadata": {},
   "source": [
    "> wherever you see `list` you can always substitute with `ndarray` if more appropriate"
   ]
  },
  {
   "cell_type": "code",
   "execution_count": 1,
   "id": "f4e779eb-20d5-47c9-af8f-ca031a74ec26",
   "metadata": {
    "tags": []
   },
   "outputs": [
    {
     "data": {
      "text/plain": [
       "array([31, 46, 33, 28, 15], dtype=int64)"
      ]
     },
     "execution_count": 1,
     "metadata": {},
     "output_type": "execute_result"
    }
   ],
   "source": [
    "import numpy as np\n",
    "from numpy.random import default_rng\n",
    "\n",
    "rnd_list = default_rng(110)\n",
    "int_list = rnd_list.integers(low=5, high=50, size = 5)\n",
    "int_list"
   ]
  },
  {
   "cell_type": "code",
   "execution_count": 2,
   "id": "4da7c11c-e3e1-446a-8584-ffa03033892c",
   "metadata": {
    "tags": []
   },
   "outputs": [],
   "source": [
    "def splits(x):\n",
    "    splits_points = []\n",
    "    x_sorted = sorted(x)\n",
    "    for i in range(len(x)-1):\n",
    "        mid_point = (x_sorted[i] + x_sorted[i+1])/2\n",
    "        splits_points.append(mid_point)\n",
    "    return splits_points"
   ]
  },
  {
   "cell_type": "code",
   "execution_count": 3,
   "id": "f0c30ea2-9238-4e9a-97e8-d853354d2de3",
   "metadata": {
    "tags": []
   },
   "outputs": [
    {
     "data": {
      "text/plain": [
       "[21.5, 29.5, 32.0, 39.5]"
      ]
     },
     "execution_count": 3,
     "metadata": {},
     "output_type": "execute_result"
    }
   ],
   "source": [
    "splits(int_list)"
   ]
  },
  {
   "cell_type": "code",
   "execution_count": null,
   "id": "03db7f6b-60ea-44ba-b89f-7e18075ce85c",
   "metadata": {},
   "outputs": [],
   "source": []
  },
  {
   "cell_type": "markdown",
   "id": "5c0354e0-02a3-4ba4-8e7f-4a54bd68f852",
   "metadata": {},
   "source": [
    "### Part 2\n",
    " - create random array of integers in shape (5, 3)\n",
    " - create a function that iterates over the columns and calculates the split points for each column\n",
    " - return as a dictionary with column name as key and list of split points as value\n",
    " - verify by hand that you are getting the correct split points"
   ]
  },
  {
   "cell_type": "code",
   "execution_count": 4,
   "id": "f5fd98f2-7a61-41ba-a673-3107c07bcb17",
   "metadata": {
    "tags": []
   },
   "outputs": [
    {
     "data": {
      "text/plain": [
       "array([[72, 71, 52],\n",
       "       [ 9, 27, 27],\n",
       "       [88, 89, 11],\n",
       "       [54, 71, 92],\n",
       "       [14, 98, 47]], dtype=int64)"
      ]
     },
     "execution_count": 4,
     "metadata": {},
     "output_type": "execute_result"
    }
   ],
   "source": [
    "int_twoDlist = rnd_list.integers(low=5, high=100, size = (5,3))\n",
    "\n",
    "int_twoDlist"
   ]
  },
  {
   "cell_type": "code",
   "execution_count": 5,
   "id": "963bb161-14d6-4316-b952-27e8cec13ef6",
   "metadata": {
    "tags": []
   },
   "outputs": [],
   "source": [
    "def splits_per_col(data):\n",
    "    col_split_pts = {}\n",
    "    ncols = data.shape[1]\n",
    "    for c in range(ncols):\n",
    "        split_pts = splits(data[:,c])\n",
    "        col_split_pts['col_'+ str(c)] = split_pts\n",
    "    return col_split_pts"
   ]
  },
  {
   "cell_type": "code",
   "execution_count": 6,
   "id": "842dbc22-fcd4-41bb-9211-42c28bec9584",
   "metadata": {
    "tags": []
   },
   "outputs": [
    {
     "data": {
      "text/plain": [
       "{'col_0': [11.5, 34.0, 63.0, 80.0],\n",
       " 'col_1': [49.0, 71.0, 80.0, 93.5],\n",
       " 'col_2': [19.0, 37.0, 49.5, 72.0]}"
      ]
     },
     "execution_count": 6,
     "metadata": {},
     "output_type": "execute_result"
    }
   ],
   "source": [
    "splits_per_col(int_twoDlist)"
   ]
  },
  {
   "cell_type": "markdown",
   "id": "24b3bcd7-a4ad-4623-8c7e-574c202272a9",
   "metadata": {
    "tags": []
   },
   "source": [
    "### Part 3\n",
    " - create random array of integers in shape (5, 2)\n",
    " - use the first column as feature data X and the second column as regression target y\n",
    " - create a function that takes in this array and\n",
    "     - calculates the MAE of the root node\n",
    "     - calculates the split points\n",
    "     - for each split point\n",
    "         - split the data into two parts\n",
    "         - calculates the weighted MAE after the split\n",
    "     - returns the split point (and the new MAE) that reduces the MAE of the root node the most\n",
    "     \n",
    "> Note: this function could use other funtions that perform the individual steps"
   ]
  },
  {
   "cell_type": "code",
   "execution_count": 7,
   "id": "877b9401-3544-4222-a0f9-9170dec03c01",
   "metadata": {
    "tags": []
   },
   "outputs": [
    {
     "data": {
      "text/plain": [
       "array([[40, 54],\n",
       "       [85, 30],\n",
       "       [98, 11],\n",
       "       [85, 65],\n",
       "       [48, 51]], dtype=int64)"
      ]
     },
     "execution_count": 7,
     "metadata": {},
     "output_type": "execute_result"
    }
   ],
   "source": [
    "int_twoDlist = rnd_list.integers(low=5, high=100, size = (5,2))\n",
    "\n",
    "int_twoDlist"
   ]
  },
  {
   "cell_type": "code",
   "execution_count": 8,
   "id": "0a09ae4a-529d-4c42-bce7-880a6e4fda6d",
   "metadata": {
    "tags": []
   },
   "outputs": [],
   "source": [
    "def split_data(x,y,split_pt):\n",
    "    mask = x > split_pt\n",
    "    anti_mask = x < split_pt\n",
    "    x_true = x[mask]\n",
    "    y_true = y[mask]\n",
    "    x_false = x[anti_mask]\n",
    "    y_false = y[anti_mask]\n",
    "    return x_true, y_true, x_false , y_false"
   ]
  },
  {
   "cell_type": "code",
   "execution_count": 9,
   "id": "73b1233b-1cc5-44a0-9fba-efe3df9eecb8",
   "metadata": {
    "tags": []
   },
   "outputs": [],
   "source": [
    "x_true, y_true, x_false , y_false =split_data(int_twoDlist[:,0],int_twoDlist[:,1], 70)"
   ]
  },
  {
   "cell_type": "code",
   "execution_count": 10,
   "id": "d8d4e4cf-4a86-41ee-9d9a-0ad3aa39fcc5",
   "metadata": {
    "tags": []
   },
   "outputs": [],
   "source": [
    "def MAE(y, y_true, y_false):\n",
    "    y_true_hat = np.mean(y_true)\n",
    "    y_false_hat = np.mean(y_false)\n",
    "    y_hat = np.mean(y)\n",
    "    \n",
    "    old_mae = np.mean(np.absolute(y-y_hat))\n",
    "    new_mae = len(y_true)/ len(y) * np.mean(np.absolute(y_true-y_true_hat)) + \\\n",
    "              len(y_false)/ len(y) * np.mean(np.absolute(y_false-y_false_hat)) \n",
    "    return old_mae, new_mae\n",
    "    "
   ]
  },
  {
   "cell_type": "code",
   "execution_count": 11,
   "id": "72dac135-81c1-4b2f-aac1-fec46840c2d6",
   "metadata": {
    "tags": []
   },
   "outputs": [
    {
     "data": {
      "text/plain": [
       "(17.36, 12.466666666666667)"
      ]
     },
     "execution_count": 11,
     "metadata": {},
     "output_type": "execute_result"
    }
   ],
   "source": [
    "MAE(int_twoDlist[:,1],y_true,y_false)"
   ]
  },
  {
   "cell_type": "code",
   "execution_count": 12,
   "id": "c04cc39e-25fc-4767-832a-f6d63aa6b171",
   "metadata": {
    "tags": []
   },
   "outputs": [],
   "source": [
    "def get_best_split(data):\n",
    "    x = data[:,0]\n",
    "    y = data[:,1]\n",
    "    split_pts = splits(x)\n",
    "    results = {}\n",
    "    for point in split_pts:\n",
    "        x_true, y_true, x_false , y_false = split_data(x,y, point)\n",
    "        errors = MAE(y, y_true, y_false)\n",
    "        results[point] = errors\n",
    "    best_point = min(results,key=results.get)\n",
    "    return results,best_point"
   ]
  },
  {
   "cell_type": "code",
   "execution_count": 13,
   "id": "12999410-a3ad-4cd8-9cc7-12b4e793036d",
   "metadata": {
    "tags": []
   },
   "outputs": [
    {
     "data": {
      "text/plain": [
       "({44.0: (17.36, 15.0),\n",
       "  66.5: (17.36, 12.466666666666667),\n",
       "  85.0: (17.36, 0.6000000000000001),\n",
       "  91.5: (17.36, 8.0)},\n",
       " 85.0,\n",
       " (17.36, 0.6000000000000001))"
      ]
     },
     "execution_count": 13,
     "metadata": {},
     "output_type": "execute_result"
    }
   ],
   "source": [
    "get_best_split(int_twoDlist)"
   ]
  },
  {
   "cell_type": "code",
   "execution_count": null,
   "id": "f7b2669e-efae-4887-a120-bf285d723a50",
   "metadata": {
    "tags": []
   },
   "outputs": [],
   "source": []
  },
  {
   "cell_type": "markdown",
   "id": "cf21274f-99ac-4eeb-a47e-0c3db31d3d61",
   "metadata": {
    "tags": []
   },
   "source": [
    "### Part 4 (Optional)\n",
    " - Modify **Part 3** code so that it can handle more than 1 feature"
   ]
  },
  {
   "cell_type": "code",
   "execution_count": 19,
   "id": "dad57a39-52c3-4aaf-b2d8-3df0e397df93",
   "metadata": {},
   "outputs": [],
   "source": [
    "def get_best_split_features(data):\n",
    "    n_feature = data.shape[1] - 1 \n",
    "    results = {}\n",
    "    for feature_idx in range(n_feature):\n",
    "        x = data[:,feature_idx]\n",
    "        y = data[:,-1]\n",
    "        split_pts = splits(x)\n",
    "        for point in split_pts:\n",
    "            x_true, y_true, x_false , y_false = split_data(x,y, point)\n",
    "            errors = MAE(y, y_true, y_false)\n",
    "            results[feature_idx,point] = errors\n",
    "    best_point = min(results,key=results.get)\n",
    "    return results,best_point"
   ]
  },
  {
   "cell_type": "code",
   "execution_count": 20,
   "id": "fa4db4f2-f79a-441e-a6ba-f75ebde5d759",
   "metadata": {
    "tags": []
   },
   "outputs": [
    {
     "data": {
      "text/plain": [
       "array([[69, 59, 40,  8, 15],\n",
       "       [ 9, 30, 62, 67, 88],\n",
       "       [52, 45, 11, 57, 17],\n",
       "       [22, 75, 45, 24, 88],\n",
       "       [28, 94, 45, 88,  7]], dtype=int64)"
      ]
     },
     "execution_count": 20,
     "metadata": {},
     "output_type": "execute_result"
    }
   ],
   "source": [
    "int_nDlist = rnd_list.integers(low=5, high=100, size = (5,5))\n",
    "\n",
    "int_nDlist"
   ]
  },
  {
   "cell_type": "code",
   "execution_count": 21,
   "id": "c51a26c7-8b43-4740-8c64-d191d7c03771",
   "metadata": {
    "tags": []
   },
   "outputs": [
    {
     "data": {
      "text/plain": [
       "({(0, 15.5): (36.0, 22.5),\n",
       "  (0, 25.0): (36.0, 2.4),\n",
       "  (0, 40.0): (36.0, 21.999999999999996),\n",
       "  (0, 60.5): (36.0, 30.400000000000002),\n",
       "  (1, 37.5): (36.0, 22.5),\n",
       "  (1, 52.0): (36.0, 34.733333333333334),\n",
       "  (1, 67.0): (36.0, 35.4),\n",
       "  (1, 84.5): (36.0, 28.8),\n",
       "  (2, 25.5): (36.0, 30.8),\n",
       "  (2, 42.5): (36.0, 21.999999999999996),\n",
       "  (2, 45.0): (36.0, 0.4),\n",
       "  (2, 53.5): (36.0, 22.5),\n",
       "  (3, 16.0): (36.0, 30.400000000000002),\n",
       "  (3, 40.5): (36.0, 34.86666666666667),\n",
       "  (3, 62.0): (36.0, 35.4),\n",
       "  (3, 77.5): (36.0, 28.8)},\n",
       " (2, 45.0))"
      ]
     },
     "execution_count": 21,
     "metadata": {},
     "output_type": "execute_result"
    }
   ],
   "source": [
    "get_best_split_features(int_nDlist)"
   ]
  }
 ],
 "metadata": {
  "kernelspec": {
   "display_name": "Python 3 (ipykernel)",
   "language": "python",
   "name": "python3"
  },
  "language_info": {
   "codemirror_mode": {
    "name": "ipython",
    "version": 3
   },
   "file_extension": ".py",
   "mimetype": "text/x-python",
   "name": "python",
   "nbconvert_exporter": "python",
   "pygments_lexer": "ipython3",
   "version": "3.11.5"
  }
 },
 "nbformat": 4,
 "nbformat_minor": 5
}
