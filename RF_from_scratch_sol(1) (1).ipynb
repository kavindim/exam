{
 "cells": [
  {
   "cell_type": "markdown",
   "id": "469882dd-1137-496d-ab24-bb4bedbb8666",
   "metadata": {},
   "source": [
    "#  Random Forest from scratch (we really hope!)"
   ]
  },
  {
   "cell_type": "markdown",
   "id": "42a97b58-9d24-40fb-aad3-419ae0715be2",
   "metadata": {},
   "source": [
    "## Data Creation "
   ]
  },
  {
   "cell_type": "code",
   "execution_count": 2,
   "id": "2bf55c93-3fd3-4a1f-a846-f91d13a04eb1",
   "metadata": {
    "tags": []
   },
   "outputs": [],
   "source": [
    "from numpy.random import default_rng\n",
    "import numpy as np"
   ]
  },
  {
   "cell_type": "code",
   "execution_count": 3,
   "id": "93fc547a-f890-46e4-8917-2bdea8e3df26",
   "metadata": {
    "tags": []
   },
   "outputs": [
    {
     "data": {
      "text/plain": [
       "array([[479, 744, 508, 409, 184, 570],\n",
       "       [560, 401,  35, 191, 190, 701],\n",
       "       [708,  55, 414, 562, 737,  78],\n",
       "       [784, 356, 297, 419, 681, 211],\n",
       "       [785,  51, 680, 509, 364, 392],\n",
       "       [754, 512, 367, 350, 202, 570],\n",
       "       [222, 561,  43, 307, 691, 665],\n",
       "       [449, 674, 758, 374, 670, 655],\n",
       "       [ 46, 304, 143, 499, 293, 453],\n",
       "       [ 48, 624, 396, 574, 138, 762]], dtype=int64)"
      ]
     },
     "execution_count": 3,
     "metadata": {},
     "output_type": "execute_result"
    }
   ],
   "source": [
    "rand = default_rng(110)\n",
    "data = rand.integers(0,800,(10,6))\n",
    "data"
   ]
  },
  {
   "cell_type": "markdown",
   "id": "084af196-d828-431f-956b-0d0357bf9610",
   "metadata": {},
   "source": [
    "## Create Bootstrap Samples (Code)"
   ]
  },
  {
   "cell_type": "code",
   "execution_count": 14,
   "id": "5f857a93-f961-4e75-83f6-66ac67f9c7f3",
   "metadata": {
    "tags": []
   },
   "outputs": [
    {
     "data": {
      "text/plain": [
       "array([[ 48, 624, 396, 574, 138, 762],\n",
       "       [ 46, 304, 143, 499, 293, 453],\n",
       "       [560, 401,  35, 191, 190, 701],\n",
       "       [ 46, 304, 143, 499, 293, 453],\n",
       "       [ 48, 624, 396, 574, 138, 762],\n",
       "       [449, 674, 758, 374, 670, 655],\n",
       "       [708,  55, 414, 562, 737,  78],\n",
       "       [ 48, 624, 396, 574, 138, 762],\n",
       "       [560, 401,  35, 191, 190, 701],\n",
       "       [222, 561,  43, 307, 691, 665]], dtype=int64)"
      ]
     },
     "execution_count": 14,
     "metadata": {},
     "output_type": "execute_result"
    }
   ],
   "source": [
    "bs = rand.choice(data,data.shape[0],replace=True)\n",
    "bs"
   ]
  },
  {
   "cell_type": "code",
   "execution_count": 15,
   "id": "55aec417-9215-4b27-ae69-a4f441da15c1",
   "metadata": {
    "tags": []
   },
   "outputs": [
    {
     "data": {
      "text/plain": [
       "6"
      ]
     },
     "execution_count": 15,
     "metadata": {},
     "output_type": "execute_result"
    }
   ],
   "source": [
    "np.unique(bs, axis=0).shape[0]"
   ]
  },
  {
   "cell_type": "markdown",
   "id": "27a9749e-b68e-48be-9cb8-1b410a03ddd3",
   "metadata": {},
   "source": [
    "## Average Number of Out-of-Bag Samples"
   ]
  },
  {
   "cell_type": "code",
   "execution_count": 24,
   "id": "e99cd8ab-3ad7-4449-8948-cb502545b672",
   "metadata": {
    "tags": []
   },
   "outputs": [
    {
     "data": {
      "text/plain": [
       "0.34040404040404026"
      ]
     },
     "execution_count": 24,
     "metadata": {},
     "output_type": "execute_result"
    }
   ],
   "source": [
    "oob_samples =[]\n",
    "for i in range(1,100):\n",
    "    bs = rand.choice(data,data.shape[0],replace=True)\n",
    "    n_unique_samples = np.unique(bs, axis=0).shape[0]\n",
    "    oob = (data.shape[0] - n_unique_samples) / data.shape[0]\n",
    "    oob_samples.append(oob)\n",
    "np.mean(oob_samples)    "
   ]
  },
  {
   "cell_type": "code",
   "execution_count": 25,
   "id": "b7c2e4af-d72a-4533-b8e0-6cdd61ec808c",
   "metadata": {
    "tags": []
   },
   "outputs": [
    {
     "data": {
      "text/plain": [
       "<matplotlib.collections.PathCollection at 0x26f90a32550>"
      ]
     },
     "execution_count": 25,
     "metadata": {},
     "output_type": "execute_result"
    },
    {
     "data": {
      "image/png": "[encoded data removed]",
      "text/plain": [
       "<Figure size 640x480 with 1 Axes>"
      ]
     },
     "metadata": {},
     "output_type": "display_data"
    }
   ],
   "source": [
    "import matplotlib.pyplot as plt\n",
    "plt.scatter(range(1,100),oob_samples)"
   ]
  },
  {
   "cell_type": "markdown",
   "id": "56576da1-fc25-4f91-a401-979dbe22b0b0",
   "metadata": {},
   "source": [
    "## Create a Function to Produce a Bootstrap Sample and Corresponding OOB Samples"
   ]
  },
  {
   "cell_type": "code",
   "execution_count": 26,
   "id": "50b31526-a2eb-460b-b440-2ad1079ea567",
   "metadata": {
    "tags": []
   },
   "outputs": [
    {
     "data": {
      "text/plain": [
       "array([[479, 744, 508, 409, 184, 570],\n",
       "       [560, 401,  35, 191, 190, 701],\n",
       "       [708,  55, 414, 562, 737,  78],\n",
       "       [784, 356, 297, 419, 681, 211],\n",
       "       [785,  51, 680, 509, 364, 392],\n",
       "       [754, 512, 367, 350, 202, 570],\n",
       "       [222, 561,  43, 307, 691, 665],\n",
       "       [449, 674, 758, 374, 670, 655],\n",
       "       [ 46, 304, 143, 499, 293, 453],\n",
       "       [ 48, 624, 396, 574, 138, 762]], dtype=int64)"
      ]
     },
     "execution_count": 26,
     "metadata": {},
     "output_type": "execute_result"
    }
   ],
   "source": [
    "data"
   ]
  },
  {
   "cell_type": "code",
   "execution_count": 40,
   "id": "f8326911-b887-454d-baec-3ecdb0b2d305",
   "metadata": {
    "tags": []
   },
   "outputs": [],
   "source": [
    "def bs_sampling(data):\n",
    "    bs = rand.choice(data,data.shape[0],replace=True)\n",
    "    unique_bs = np.unique(bs, axis=0)\n",
    "    oob=[]\n",
    "    for row in data:\n",
    "        if sum(np.isin(row,unique_bs))==0:\n",
    "            oob.append(row) \n",
    "    return bs,np.array(oob)"
   ]
  },
  {
   "cell_type": "code",
   "execution_count": 44,
   "id": "eff0c007-5152-4a19-8f18-8134afe3391c",
   "metadata": {
    "tags": []
   },
   "outputs": [],
   "source": [
    "bs,oob = bs_sampling(data)"
   ]
  },
  {
   "cell_type": "code",
   "execution_count": 45,
   "id": "47f9a809-1002-4892-8fd0-5e7b577ca5ba",
   "metadata": {
    "tags": []
   },
   "outputs": [
    {
     "data": {
      "text/plain": [
       "array([[708,  55, 414, 562, 737,  78],\n",
       "       [449, 674, 758, 374, 670, 655],\n",
       "       [784, 356, 297, 419, 681, 211],\n",
       "       [479, 744, 508, 409, 184, 570],\n",
       "       [708,  55, 414, 562, 737,  78],\n",
       "       [784, 356, 297, 419, 681, 211],\n",
       "       [560, 401,  35, 191, 190, 701],\n",
       "       [ 46, 304, 143, 499, 293, 453],\n",
       "       [449, 674, 758, 374, 670, 655],\n",
       "       [479, 744, 508, 409, 184, 570]], dtype=int64)"
      ]
     },
     "execution_count": 45,
     "metadata": {},
     "output_type": "execute_result"
    }
   ],
   "source": [
    "bs"
   ]
  },
  {
   "cell_type": "code",
   "execution_count": 46,
   "id": "ab2b31c4-7d47-442f-aec4-9840434c500a",
   "metadata": {
    "tags": []
   },
   "outputs": [
    {
     "data": {
      "text/plain": [
       "array([[785,  51, 680, 509, 364, 392],\n",
       "       [222, 561,  43, 307, 691, 665],\n",
       "       [ 48, 624, 396, 574, 138, 762]], dtype=int64)"
      ]
     },
     "execution_count": 46,
     "metadata": {},
     "output_type": "execute_result"
    }
   ],
   "source": [
    "oob"
   ]
  },
  {
   "cell_type": "code",
   "execution_count": 31,
   "id": "32eee17b-a438-4ff2-9c50-33aff515a970",
   "metadata": {
    "tags": []
   },
   "outputs": [
    {
     "data": {
      "text/plain": [
       "0"
      ]
     },
     "execution_count": 31,
     "metadata": {},
     "output_type": "execute_result"
    }
   ],
   "source": [
    "a=[10,20,35,50,60]\n",
    "b=[20,60]\n",
    "c=[100,200]\n",
    "sum(np.isin(a,c))\n"
   ]
  },
  {
   "cell_type": "markdown",
   "id": "b858c300-66c1-4382-a877-c94801562c08",
   "metadata": {},
   "source": [
    "## Create a Function to Produce a Decision Tree from a Data Sample"
   ]
  },
  {
   "cell_type": "code",
   "execution_count": 51,
   "id": "fa2b4cbc-1699-4d81-ae8a-498d120af6f0",
   "metadata": {
    "tags": []
   },
   "outputs": [
    {
     "data": {
      "text/plain": [
       "array([[479, 744, 508, 409, 184, 570],\n",
       "       [560, 401,  35, 191, 190, 701],\n",
       "       [708,  55, 414, 562, 737,  78],\n",
       "       [784, 356, 297, 419, 681, 211],\n",
       "       [785,  51, 680, 509, 364, 392],\n",
       "       [754, 512, 367, 350, 202, 570],\n",
       "       [222, 561,  43, 307, 691, 665],\n",
       "       [449, 674, 758, 374, 670, 655],\n",
       "       [ 46, 304, 143, 499, 293, 453],\n",
       "       [ 48, 624, 396, 574, 138, 762]], dtype=int64)"
      ]
     },
     "execution_count": 51,
     "metadata": {},
     "output_type": "execute_result"
    }
   ],
   "source": [
    "data"
   ]
  },
  {
   "cell_type": "code",
   "execution_count": 62,
   "id": "9f35c841-2516-40a0-923d-9257d3cf95f0",
   "metadata": {
    "tags": []
   },
   "outputs": [],
   "source": [
    "from sklearn.tree import DecisionTreeRegressor\n",
    "\n",
    "def create_tree(data):\n",
    "    X = data[:,0:-1]\n",
    "    y = data[:,-1]\n",
    "    dt = DecisionTreeRegressor()\n",
    "    dt.fit(X,y)\n",
    "    return dt\n",
    "    "
   ]
  },
  {
   "cell_type": "code",
   "execution_count": 63,
   "id": "6e8dacc0-5103-43b9-afaf-77359a9a5508",
   "metadata": {
    "tags": []
   },
   "outputs": [
    {
     "data": {
      "text/html": [
       "<style>#sk-container-id-2 {color: black;}#sk-container-id-2 pre{padding: 0;}#sk-container-id-2 div.sk-toggleable {background-color: white;}#sk-container-id-2 label.sk-toggleable__label {cursor: pointer;display: block;width: 100%;margin-bottom: 0;padding: 0.3em;box-sizing: border-box;text-align: center;}#sk-container-id-2 label.sk-toggleable__label-arrow:before {content: \"▸\";float: left;margin-right: 0.25em;color: #696969;}#sk-container-id-2 label.sk-toggleable__label-arrow:hover:before {color: black;}#sk-container-id-2 div.sk-estimator:hover label.sk-toggleable__label-arrow:before {color: black;}#sk-container-id-2 div.sk-toggleable__content {max-height: 0;max-width: 0;overflow: hidden;text-align: left;background-color: #f0f8ff;}#sk-container-id-2 div.sk-toggleable__content pre {margin: 0.2em;color: black;border-radius: 0.25em;background-color: #f0f8ff;}#sk-container-id-2 input.sk-toggleable__control:checked~div.sk-toggleable__content {max-height: 200px;max-width: 100%;overflow: auto;}#sk-container-id-2 input.sk-toggleable__control:checked~label.sk-toggleable__label-arrow:before {content: \"▾\";}#sk-container-id-2 div.sk-estimator input.sk-toggleable__control:checked~label.sk-toggleable__label {background-color: #d4ebff;}#sk-container-id-2 div.sk-label input.sk-toggleable__control:checked~label.sk-toggleable__label {background-color: #d4ebff;}#sk-container-id-2 input.sk-hidden--visually {border: 0;clip: rect(1px 1px 1px 1px);clip: rect(1px, 1px, 1px, 1px);height: 1px;margin: -1px;overflow: hidden;padding: 0;position: absolute;width: 1px;}#sk-container-id-2 div.sk-estimator {font-family: monospace;background-color: #f0f8ff;border: 1px dotted black;border-radius: 0.25em;box-sizing: border-box;margin-bottom: 0.5em;}#sk-container-id-2 div.sk-estimator:hover {background-color: #d4ebff;}#sk-container-id-2 div.sk-parallel-item::after {content: \"\";width: 100%;border-bottom: 1px solid gray;flex-grow: 1;}#sk-container-id-2 div.sk-label:hover label.sk-toggleable__label {background-color: #d4ebff;}#sk-container-id-2 div.sk-serial::before {content: \"\";position: absolute;border-left: 1px solid gray;box-sizing: border-box;top: 0;bottom: 0;left: 50%;z-index: 0;}#sk-container-id-2 div.sk-serial {display: flex;flex-direction: column;align-items: center;background-color: white;padding-right: 0.2em;padding-left: 0.2em;position: relative;}#sk-container-id-2 div.sk-item {position: relative;z-index: 1;}#sk-container-id-2 div.sk-parallel {display: flex;align-items: stretch;justify-content: center;background-color: white;position: relative;}#sk-container-id-2 div.sk-item::before, #sk-container-id-2 div.sk-parallel-item::before {content: \"\";position: absolute;border-left: 1px solid gray;box-sizing: border-box;top: 0;bottom: 0;left: 50%;z-index: -1;}#sk-container-id-2 div.sk-parallel-item {display: flex;flex-direction: column;z-index: 1;position: relative;background-color: white;}#sk-container-id-2 div.sk-parallel-item:first-child::after {align-self: flex-end;width: 50%;}#sk-container-id-2 div.sk-parallel-item:last-child::after {align-self: flex-start;width: 50%;}#sk-container-id-2 div.sk-parallel-item:only-child::after {width: 0;}#sk-container-id-2 div.sk-dashed-wrapped {border: 1px dashed gray;margin: 0 0.4em 0.5em 0.4em;box-sizing: border-box;padding-bottom: 0.4em;background-color: white;}#sk-container-id-2 div.sk-label label {font-family: monospace;font-weight: bold;display: inline-block;line-height: 1.2em;}#sk-container-id-2 div.sk-label-container {text-align: center;}#sk-container-id-2 div.sk-container {/* jupyter's `normalize.less` sets `[hidden] { display: none; }` but bootstrap.min.css set `[hidden] { display: none !important; }` so we also need the `!important` here to be able to override the default hidden behavior on the sphinx rendered scikit-learn.org. See: https://github.com/scikit-learn/scikit-learn/issues/21755 */display: inline-block !important;position: relative;}#sk-container-id-2 div.sk-text-repr-fallback {display: none;}</style><div id=\"sk-container-id-2\" class=\"sk-top-container\"><div class=\"sk-text-repr-fallback\"><pre>DecisionTreeRegressor()</pre><b>In a Jupyter environment, please rerun this cell to show the HTML representation or trust the notebook. <br />On GitHub, the HTML representation is unable to render, please try loading this page with nbviewer.org.</b></div><div class=\"sk-container\" hidden><div class=\"sk-item\"><div class=\"sk-estimator sk-toggleable\"><input class=\"sk-toggleable__control sk-hidden--visually\" id=\"sk-estimator-id-2\" type=\"checkbox\" checked><label for=\"sk-estimator-id-2\" class=\"sk-toggleable__label sk-toggleable__label-arrow\">DecisionTreeRegressor</label><div class=\"sk-toggleable__content\"><pre>DecisionTreeRegressor()</pre></div></div></div></div></div>"
      ],
      "text/plain": [
       "DecisionTreeRegressor()"
      ]
     },
     "execution_count": 63,
     "metadata": {},
     "output_type": "execute_result"
    }
   ],
   "source": [
    "create_tree(data)"
   ]
  },
  {
   "cell_type": "markdown",
   "id": "a68fa965-cb98-4761-b0d2-7e472b65aa1b",
   "metadata": {},
   "source": [
    "## Make Predictions using the Decision Tree "
   ]
  },
  {
   "cell_type": "code",
   "execution_count": 64,
   "id": "a35af2a8-183f-4141-8e71-003b9d8371eb",
   "metadata": {
    "tags": []
   },
   "outputs": [
    {
     "data": {
      "text/plain": [
       "array([570.])"
      ]
     },
     "execution_count": 64,
     "metadata": {},
     "output_type": "execute_result"
    }
   ],
   "source": [
    "create_tree(data).predict([[479, 744, 508, 409, 184]])"
   ]
  },
  {
   "cell_type": "markdown",
   "id": "473ea823-6143-4f76-bcc5-f4fce1c47af0",
   "metadata": {},
   "source": [
    "## Select a Random Subset of Features/Columns from a Data Sample"
   ]
  },
  {
   "cell_type": "code",
   "execution_count": 65,
   "id": "7f6b42bd-00b5-48fb-a6de-68b166bd944b",
   "metadata": {
    "tags": []
   },
   "outputs": [
    {
     "data": {
      "text/plain": [
       "array([[479, 744, 508, 409, 184, 570],\n",
       "       [560, 401,  35, 191, 190, 701],\n",
       "       [708,  55, 414, 562, 737,  78],\n",
       "       [784, 356, 297, 419, 681, 211],\n",
       "       [785,  51, 680, 509, 364, 392],\n",
       "       [754, 512, 367, 350, 202, 570],\n",
       "       [222, 561,  43, 307, 691, 665],\n",
       "       [449, 674, 758, 374, 670, 655],\n",
       "       [ 46, 304, 143, 499, 293, 453],\n",
       "       [ 48, 624, 396, 574, 138, 762]], dtype=int64)"
      ]
     },
     "execution_count": 65,
     "metadata": {},
     "output_type": "execute_result"
    }
   ],
   "source": [
    "data"
   ]
  },
  {
   "cell_type": "code",
   "execution_count": 67,
   "id": "1041974e-9085-44fd-91d9-d0be99cd0e4b",
   "metadata": {
    "tags": []
   },
   "outputs": [
    {
     "data": {
      "text/plain": [
       "5"
      ]
     },
     "execution_count": 67,
     "metadata": {},
     "output_type": "execute_result"
    }
   ],
   "source": [
    "total_features = data.shape[1]-1\n",
    "total_features"
   ]
  },
  {
   "cell_type": "code",
   "execution_count": 71,
   "id": "813b53b2-179d-485d-a87f-09d40b131ba6",
   "metadata": {
    "tags": []
   },
   "outputs": [
    {
     "data": {
      "text/plain": [
       "2"
      ]
     },
     "execution_count": 71,
     "metadata": {},
     "output_type": "execute_result"
    }
   ],
   "source": [
    "rand_n_of_feaures = int(np.sqrt(total_features))\n",
    "rand_n_of_feaures"
   ]
  },
  {
   "cell_type": "code",
   "execution_count": 83,
   "id": "d17afd2f-671b-4c59-8043-0e78d2dc5f3c",
   "metadata": {
    "tags": []
   },
   "outputs": [
    {
     "data": {
      "text/plain": [
       "array([1, 2], dtype=int64)"
      ]
     },
     "execution_count": 83,
     "metadata": {},
     "output_type": "execute_result"
    }
   ],
   "source": [
    "selected_features = rand.choice(total_features,rand_n_of_feaures,replace=False)\n",
    "selected_features"
   ]
  },
  {
   "cell_type": "code",
   "execution_count": 85,
   "id": "1d2d32a6-af13-4674-b526-f005b70f7276",
   "metadata": {
    "tags": []
   },
   "outputs": [
    {
     "data": {
      "text/plain": [
       "array([ 1,  2, -1], dtype=int64)"
      ]
     },
     "execution_count": 85,
     "metadata": {},
     "output_type": "execute_result"
    }
   ],
   "source": [
    "selected_features_with_y = np.append(selected_features,-1)\n",
    "selected_features_with_y"
   ]
  },
  {
   "cell_type": "code",
   "execution_count": 88,
   "id": "ce62e157-e331-4f11-bc4b-b31ffa22f008",
   "metadata": {
    "tags": []
   },
   "outputs": [
    {
     "data": {
      "text/plain": [
       "array([[708,  55, 414, 562, 737,  78],\n",
       "       [449, 674, 758, 374, 670, 655],\n",
       "       [784, 356, 297, 419, 681, 211],\n",
       "       [479, 744, 508, 409, 184, 570],\n",
       "       [708,  55, 414, 562, 737,  78],\n",
       "       [784, 356, 297, 419, 681, 211],\n",
       "       [560, 401,  35, 191, 190, 701],\n",
       "       [ 46, 304, 143, 499, 293, 453],\n",
       "       [449, 674, 758, 374, 670, 655],\n",
       "       [479, 744, 508, 409, 184, 570]], dtype=int64)"
      ]
     },
     "execution_count": 88,
     "metadata": {},
     "output_type": "execute_result"
    }
   ],
   "source": [
    "bs"
   ]
  },
  {
   "cell_type": "code",
   "execution_count": 87,
   "id": "cb3c361d-7d2e-4a34-af42-8d9a26932adb",
   "metadata": {
    "tags": []
   },
   "outputs": [
    {
     "data": {
      "text/plain": [
       "array([[ 55, 414,  78],\n",
       "       [674, 758, 655],\n",
       "       [356, 297, 211],\n",
       "       [744, 508, 570],\n",
       "       [ 55, 414,  78],\n",
       "       [356, 297, 211],\n",
       "       [401,  35, 701],\n",
       "       [304, 143, 453],\n",
       "       [674, 758, 655],\n",
       "       [744, 508, 570]], dtype=int64)"
      ]
     },
     "execution_count": 87,
     "metadata": {},
     "output_type": "execute_result"
    }
   ],
   "source": [
    "temp_data = bs[:,selected_features_with_y]\n",
    "temp_data"
   ]
  },
  {
   "cell_type": "markdown",
   "id": "6d129fca-3440-40e7-a970-5dcac9ef80ab",
   "metadata": {},
   "source": [
    "## Put it All Together"
   ]
  },
  {
   "cell_type": "code",
   "execution_count": 93,
   "id": "6094aa24-a906-4aaf-820f-e0ae983731c7",
   "metadata": {
    "tags": []
   },
   "outputs": [],
   "source": [
    "def simple_rf(data):\n",
    "    bs,oob = bs_sampling(data)\n",
    "    print(f\"oob:\",oob)\n",
    "    total_features = data.shape[1]-1\n",
    "    rand_n_of_feaures = int(np.sqrt(total_features))\n",
    "    selected_features = rand.choice(total_features,rand_n_of_feaures,replace=False)\n",
    "    selected_features_with_y = np.append(selected_features,-1)\n",
    "    sample_data = bs[:,selected_features_with_y]\n",
    "    dt = create_tree(sample_data)\n",
    "    sample_oob = oob[:,selected_features]\n",
    "    preds = dt.predict(sample_oob)\n",
    "    return preds "
   ]
  },
  {
   "cell_type": "code",
   "execution_count": 94,
   "id": "9cd0f5f6-6ac8-459d-ad0a-7cdd6baa3f3a",
   "metadata": {
    "tags": []
   },
   "outputs": [
    {
     "data": {
      "text/plain": [
       "array([[479, 744, 508, 409, 184, 570],\n",
       "       [560, 401,  35, 191, 190, 701],\n",
       "       [708,  55, 414, 562, 737,  78],\n",
       "       [784, 356, 297, 419, 681, 211],\n",
       "       [785,  51, 680, 509, 364, 392],\n",
       "       [754, 512, 367, 350, 202, 570],\n",
       "       [222, 561,  43, 307, 691, 665],\n",
       "       [449, 674, 758, 374, 670, 655],\n",
       "       [ 46, 304, 143, 499, 293, 453],\n",
       "       [ 48, 624, 396, 574, 138, 762]], dtype=int64)"
      ]
     },
     "execution_count": 94,
     "metadata": {},
     "output_type": "execute_result"
    }
   ],
   "source": [
    "data"
   ]
  },
  {
   "cell_type": "code",
   "execution_count": 95,
   "id": "074373b7-04d9-434a-870c-72de0f341e85",
   "metadata": {
    "tags": []
   },
   "outputs": [
    {
     "name": "stdout",
     "output_type": "stream",
     "text": [
      "oob: [[479 744 508 409 184 570]\n",
      " [754 512 367 350 202 570]\n",
      " [449 674 758 374 670 655]]\n"
     ]
    },
    {
     "data": {
      "text/plain": [
       "array([701., 392., 665.])"
      ]
     },
     "execution_count": 95,
     "metadata": {},
     "output_type": "execute_result"
    }
   ],
   "source": [
    "simple_rf(data)"
   ]
  }
 ],
 "metadata": {
  "kernelspec": {
   "display_name": "Python 3 (ipykernel)",
   "language": "python",
   "name": "python3"
  },
  "language_info": {
   "codemirror_mode": {
    "name": "ipython",
    "version": 3
   },
   "file_extension": ".py",
   "mimetype": "text/x-python",
   "name": "python",
   "nbconvert_exporter": "python",
   "pygments_lexer": "ipython3",
   "version": "3.11.5"
  }
 },
 "nbformat": 4,
 "nbformat_minor": 5
}
