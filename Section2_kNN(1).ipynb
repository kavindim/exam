{
 "cells": [
  {
   "cell_type": "markdown",
   "id": "005d2784-c5a8-42aa-8111-6dc7748bc03f",
   "metadata": {},
   "source": [
    "## kNN- Part1"
   ]
  },
  {
   "cell_type": "code",
   "execution_count": 1,
   "id": "6bc51413-9ad7-4d8b-ab9c-29d3ef3afaf4",
   "metadata": {
    "tags": []
   },
   "outputs": [],
   "source": [
    "from sklearn.datasets import fetch_california_housing\n",
    "import pandas as pd\n",
    "import numpy as np"
   ]
  },
  {
   "cell_type": "code",
   "execution_count": 2,
   "id": "1933cd66-527f-47a5-8690-6c111cec8e7f",
   "metadata": {
    "tags": []
   },
   "outputs": [
    {
     "data": {
      "text/plain": [
       "(20640, 8)"
      ]
     },
     "execution_count": 2,
     "metadata": {},
     "output_type": "execute_result"
    }
   ],
   "source": [
    "housing = fetch_california_housing()\n",
    "df = pd.DataFrame(housing.data, columns = housing.feature_names)\n",
    "df.shape"
   ]
  },
  {
   "cell_type": "code",
   "execution_count": 3,
   "id": "17b46bf9-0c4e-4a3c-ad56-6a55b48fafeb",
   "metadata": {
    "tags": []
   },
   "outputs": [
    {
     "data": {
      "text/html": [
       "<div>\n",
       "<style scoped>\n",
       "    .dataframe tbody tr th:only-of-type {\n",
       "        vertical-align: middle;\n",
       "    }\n",
       "\n",
       "    .dataframe tbody tr th {\n",
       "        vertical-align: top;\n",
       "    }\n",
       "\n",
       "    .dataframe thead th {\n",
       "        text-align: right;\n",
       "    }\n",
       "</style>\n",
       "<table border=\"1\" class=\"dataframe\">\n",
       "  <thead>\n",
       "    <tr style=\"text-align: right;\">\n",
       "      <th></th>\n",
       "      <th>MedInc</th>\n",
       "      <th>HouseAge</th>\n",
       "      <th>AveRooms</th>\n",
       "      <th>AveBedrms</th>\n",
       "      <th>Population</th>\n",
       "      <th>AveOccup</th>\n",
       "      <th>Latitude</th>\n",
       "      <th>Longitude</th>\n",
       "    </tr>\n",
       "  </thead>\n",
       "  <tbody>\n",
       "    <tr>\n",
       "      <th>0</th>\n",
       "      <td>8.3252</td>\n",
       "      <td>41.0</td>\n",
       "      <td>6.984127</td>\n",
       "      <td>1.023810</td>\n",
       "      <td>322.0</td>\n",
       "      <td>2.555556</td>\n",
       "      <td>37.88</td>\n",
       "      <td>-122.23</td>\n",
       "    </tr>\n",
       "    <tr>\n",
       "      <th>1</th>\n",
       "      <td>8.3014</td>\n",
       "      <td>21.0</td>\n",
       "      <td>6.238137</td>\n",
       "      <td>0.971880</td>\n",
       "      <td>2401.0</td>\n",
       "      <td>2.109842</td>\n",
       "      <td>37.86</td>\n",
       "      <td>-122.22</td>\n",
       "    </tr>\n",
       "    <tr>\n",
       "      <th>2</th>\n",
       "      <td>7.2574</td>\n",
       "      <td>52.0</td>\n",
       "      <td>8.288136</td>\n",
       "      <td>1.073446</td>\n",
       "      <td>496.0</td>\n",
       "      <td>2.802260</td>\n",
       "      <td>37.85</td>\n",
       "      <td>-122.24</td>\n",
       "    </tr>\n",
       "    <tr>\n",
       "      <th>3</th>\n",
       "      <td>5.6431</td>\n",
       "      <td>52.0</td>\n",
       "      <td>5.817352</td>\n",
       "      <td>1.073059</td>\n",
       "      <td>558.0</td>\n",
       "      <td>2.547945</td>\n",
       "      <td>37.85</td>\n",
       "      <td>-122.25</td>\n",
       "    </tr>\n",
       "    <tr>\n",
       "      <th>4</th>\n",
       "      <td>3.8462</td>\n",
       "      <td>52.0</td>\n",
       "      <td>6.281853</td>\n",
       "      <td>1.081081</td>\n",
       "      <td>565.0</td>\n",
       "      <td>2.181467</td>\n",
       "      <td>37.85</td>\n",
       "      <td>-122.25</td>\n",
       "    </tr>\n",
       "  </tbody>\n",
       "</table>\n",
       "</div>"
      ],
      "text/plain": [
       "   MedInc  HouseAge  AveRooms  AveBedrms  Population  AveOccup  Latitude  \\\n",
       "0  8.3252      41.0  6.984127   1.023810       322.0  2.555556     37.88   \n",
       "1  8.3014      21.0  6.238137   0.971880      2401.0  2.109842     37.86   \n",
       "2  7.2574      52.0  8.288136   1.073446       496.0  2.802260     37.85   \n",
       "3  5.6431      52.0  5.817352   1.073059       558.0  2.547945     37.85   \n",
       "4  3.8462      52.0  6.281853   1.081081       565.0  2.181467     37.85   \n",
       "\n",
       "   Longitude  \n",
       "0    -122.23  \n",
       "1    -122.22  \n",
       "2    -122.24  \n",
       "3    -122.25  \n",
       "4    -122.25  "
      ]
     },
     "execution_count": 3,
     "metadata": {},
     "output_type": "execute_result"
    }
   ],
   "source": [
    "df.head()"
   ]
  },
  {
   "cell_type": "code",
   "execution_count": 4,
   "id": "bd1fb4e9-4d18-4fb5-9dc5-96b5d2404413",
   "metadata": {
    "tags": []
   },
   "outputs": [
    {
     "data": {
      "text/html": [
       "<div>\n",
       "<style scoped>\n",
       "    .dataframe tbody tr th:only-of-type {\n",
       "        vertical-align: middle;\n",
       "    }\n",
       "\n",
       "    .dataframe tbody tr th {\n",
       "        vertical-align: top;\n",
       "    }\n",
       "\n",
       "    .dataframe thead th {\n",
       "        text-align: right;\n",
       "    }\n",
       "</style>\n",
       "<table border=\"1\" class=\"dataframe\">\n",
       "  <thead>\n",
       "    <tr style=\"text-align: right;\">\n",
       "      <th></th>\n",
       "      <th>AveRooms</th>\n",
       "      <th>HouseAge</th>\n",
       "    </tr>\n",
       "  </thead>\n",
       "  <tbody>\n",
       "    <tr>\n",
       "      <th>0</th>\n",
       "      <td>6.984127</td>\n",
       "      <td>41.0</td>\n",
       "    </tr>\n",
       "    <tr>\n",
       "      <th>1</th>\n",
       "      <td>6.238137</td>\n",
       "      <td>21.0</td>\n",
       "    </tr>\n",
       "    <tr>\n",
       "      <th>2</th>\n",
       "      <td>8.288136</td>\n",
       "      <td>52.0</td>\n",
       "    </tr>\n",
       "    <tr>\n",
       "      <th>3</th>\n",
       "      <td>5.817352</td>\n",
       "      <td>52.0</td>\n",
       "    </tr>\n",
       "    <tr>\n",
       "      <th>4</th>\n",
       "      <td>6.281853</td>\n",
       "      <td>52.0</td>\n",
       "    </tr>\n",
       "  </tbody>\n",
       "</table>\n",
       "</div>"
      ],
      "text/plain": [
       "   AveRooms  HouseAge\n",
       "0  6.984127      41.0\n",
       "1  6.238137      21.0\n",
       "2  8.288136      52.0\n",
       "3  5.817352      52.0\n",
       "4  6.281853      52.0"
      ]
     },
     "execution_count": 4,
     "metadata": {},
     "output_type": "execute_result"
    }
   ],
   "source": [
    "X = df[['AveRooms','HouseAge']]\n",
    "y = housing.target\n",
    "X.head()"
   ]
  },
  {
   "cell_type": "code",
   "execution_count": 5,
   "id": "1df8a9b9-51dd-4abc-bad9-9979e42ab041",
   "metadata": {
    "tags": []
   },
   "outputs": [],
   "source": [
    "from sklearn.model_selection import train_test_split\n",
    "\n",
    "X_train, X_test, y_train, y_test = train_test_split(X, y, test_size = 0.02 , random_state = 110)"
   ]
  },
  {
   "cell_type": "code",
   "execution_count": 6,
   "id": "f13fbd2c-3741-43fd-b334-0def7fc87cd9",
   "metadata": {
    "tags": []
   },
   "outputs": [],
   "source": [
    "def euclidean_distance(point1, point2):\n",
    "    return np.sqrt(sum((point1-point2)**2))\n",
    "    "
   ]
  },
  {
   "cell_type": "code",
   "execution_count": 14,
   "id": "fb2c5944-00c9-431c-a9f5-945573aadfe3",
   "metadata": {
    "tags": []
   },
   "outputs": [],
   "source": [
    "def manhattan_distance(point1, point2):\n",
    "    return np.sum(np.abs(point1-point2))\n",
    "    "
   ]
  },
  {
   "cell_type": "code",
   "execution_count": 18,
   "id": "0c431559-153e-4cfb-bb76-fdde5256aea4",
   "metadata": {
    "tags": []
   },
   "outputs": [],
   "source": [
    "def minkowski_distance(point1, point2,p):\n",
    "    return np.power(sum(np.abs(point1-point2)**p),1/p)\n",
    "    "
   ]
  },
  {
   "cell_type": "code",
   "execution_count": 22,
   "id": "747d6782-9a83-4e85-8dd1-68eba91c7135",
   "metadata": {
    "tags": []
   },
   "outputs": [],
   "source": [
    "def predict_price(X_train,y_train,sample,k=5,p):\n",
    "    distances = []\n",
    "    for x in X_train.to_numpy():\n",
    "        distance = minkowski_distance(sample,x,p)\n",
    "        distances.append(distance)\n",
    "    sorted_distances = np.argsort(distances)\n",
    "    k_nearest_targets = y_train[sorted_distances[:k]]\n",
    "    predict_price = np.mean(k_nearest_targets)\n",
    "    return predict_price"
   ]
  },
  {
   "cell_type": "code",
   "execution_count": 8,
   "id": "c40d4175-f5c5-4be9-9b04-1e01df4ea111",
   "metadata": {
    "tags": []
   },
   "outputs": [
    {
     "data": {
      "text/plain": [
       "1.834818181818182"
      ]
     },
     "execution_count": 8,
     "metadata": {},
     "output_type": "execute_result"
    }
   ],
   "source": [
    "sample1 = X_test.iloc[1,:]\n",
    "k=11\n",
    "predict_price(X_train,y_train,k,sample1)"
   ]
  },
  {
   "cell_type": "code",
   "execution_count": 9,
   "id": "f9297e48-6cf4-4de6-bdc0-314bd1302f19",
   "metadata": {
    "tags": []
   },
   "outputs": [
    {
     "data": {
      "text/plain": [
       "1.64"
      ]
     },
     "execution_count": 9,
     "metadata": {},
     "output_type": "execute_result"
    }
   ],
   "source": [
    "y_test[1]"
   ]
  },
  {
   "cell_type": "code",
   "execution_count": 20,
   "id": "636f9ef8-af85-4b5d-87fe-8a6316c42be5",
   "metadata": {
    "tags": []
   },
   "outputs": [],
   "source": [
    "y_preds= []\n",
    "for x in X_test.to_numpy():\n",
    "    y_pred = predict_price(X_train,y_train,k,x,3)\n",
    "    y_preds.append(y_pred)\n",
    "#y_preds"
   ]
  },
  {
   "cell_type": "code",
   "execution_count": 21,
   "id": "5dbe0a47-e4f5-4fe2-9417-2338ac4699ab",
   "metadata": {
    "tags": []
   },
   "outputs": [
    {
     "data": {
      "text/plain": [
       "1.1126187776035579"
      ]
     },
     "execution_count": 21,
     "metadata": {},
     "output_type": "execute_result"
    }
   ],
   "source": [
    "from sklearn.metrics import mean_squared_error\n",
    "\n",
    "mse = mean_squared_error(y_test,y_preds)\n",
    "mse # k=11"
   ]
  },
  {
   "cell_type": "code",
   "execution_count": 23,
   "id": "bbca8f6b-c92d-4fa3-bbf9-f644fa22a922",
   "metadata": {
    "tags": []
   },
   "outputs": [],
   "source": [
    "def calculate_mse_for_k(X_train,y_train,X_test,y_test,k,p):\n",
    "    y_preds= []\n",
    "    for sample in X_test.to_numpy():\n",
    "        y_pred = predict_price(X_train,y_train,sample,k,p)\n",
    "        y_preds.append(y_pred)\n",
    "    mse = mean_squared_error(y_test,y_preds)\n",
    "    return mse"
   ]
  },
  {
   "cell_type": "code",
   "execution_count": 24,
   "id": "f5b22fa1-d52c-4fb5-8df8-3bfa94c54e57",
   "metadata": {
    "tags": []
   },
   "outputs": [
    {
     "data": {
      "text/plain": [
       "[1.3223857911798493,\n",
       " 1.226145642488786,\n",
       " 1.1640107197345182,\n",
       " 1.1731490538884315,\n",
       " 1.1830984528217916,\n",
       " 1.1592039591841667,\n",
       " 1.1495488838645471,\n",
       " 1.1348525616932275,\n",
       " 1.1126187776035579,\n",
       " 1.0922774092274952,\n",
       " 1.0941643462835966,\n",
       " 1.0806259815506003,\n",
       " 1.0796399801020424,\n",
       " 1.0732458140835397,\n",
       " 1.067927926828836,\n",
       " 1.071900315068153,\n",
       " 1.0576736157723488,\n",
       " 1.0431306829176856,\n",
       " 1.032570610018834,\n",
       " 1.0362290467417274,\n",
       " 1.0382647157873912,\n",
       " 1.0359625126632528,\n",
       " 1.0355690724466262,\n",
       " 1.0261644329999042,\n",
       " 1.0221407297741816,\n",
       " 1.0287051937431684,\n",
       " 1.029260437342489]"
      ]
     },
     "execution_count": 24,
     "metadata": {},
     "output_type": "execute_result"
    }
   ],
   "source": [
    "k_values = range(3,30)\n",
    "\n",
    "mse_values= []\n",
    "\n",
    "for k in k_values:\n",
    "    mse = calculate_mse_for_k(X_train,y_train,X_test,y_test,k,p=3)\n",
    "    mse_values.append(mse)\n",
    "mse_values "
   ]
  },
  {
   "cell_type": "code",
   "execution_count": 27,
   "id": "18f6b928-6ab7-4ccb-9860-8cb40ffb2e0d",
   "metadata": {
    "tags": []
   },
   "outputs": [
    {
     "data": {
      "image/png": "[encoded data removed]",
      "text/plain": [
       "<Figure size 640x480 with 1 Axes>"
      ]
     },
     "metadata": {},
     "output_type": "display_data"
    }
   ],
   "source": [
    "import matplotlib.pyplot as plt\n",
    "\n",
    "plt. plot(k_values,mse_values, marker = 'o')\n",
    "plt.title(\"Mean Squared Error dor Diffrenet k values\")\n",
    "plt.xlabel(\"k\")\n",
    "plt.ylabel(\"MSE\")\n",
    "plt.show()"
   ]
  },
  {
   "cell_type": "code",
   "execution_count": 29,
   "id": "9db1eaf9-a47a-4a6b-bb16-db6271124abe",
   "metadata": {
    "tags": []
   },
   "outputs": [],
   "source": [
    "from sklearn.neighbors import KNeighborsRegressor"
   ]
  },
  {
   "cell_type": "code",
   "execution_count": 32,
   "id": "828a6a33-8997-4298-b027-f8a92f8019df",
   "metadata": {
    "tags": []
   },
   "outputs": [
    {
     "data": {
      "text/plain": [
       "1.1126187776035579"
      ]
     },
     "execution_count": 32,
     "metadata": {},
     "output_type": "execute_result"
    }
   ],
   "source": [
    "knn_regressor = KNeighborsRegressor(n_neighbors=11,p=3)\n",
    "\n",
    "knn_regressor.fit(X_train,y_train)\n",
    "\n",
    "y_pred = knn_regressor.predict(X_test)\n",
    "\n",
    "mse = mean_squared_error(y_test,y_pred)\n",
    "mse"
   ]
  }
 ],
 "metadata": {
  "kernelspec": {
   "display_name": "Python 3 (ipykernel)",
   "language": "python",
   "name": "python3"
  },
  "language_info": {
   "codemirror_mode": {
    "name": "ipython",
    "version": 3
   },
   "file_extension": ".py",
   "mimetype": "text/x-python",
   "name": "python",
   "nbconvert_exporter": "python",
   "pygments_lexer": "ipython3",
   "version": "3.11.5"
  }
 },
 "nbformat": 4,
 "nbformat_minor": 5
}
