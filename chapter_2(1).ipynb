{
 "cells": [
  {
   "cell_type": "markdown",
   "metadata": {},
   "source": [
    "# Memorization and averages"
   ]
  },
  {
   "cell_type": "code",
   "execution_count": null,
   "metadata": {},
   "outputs": [],
   "source": [
    "import numpy as np\n",
    "import pandas as pd"
   ]
  },
  {
   "cell_type": "code",
   "execution_count": null,
   "metadata": {},
   "outputs": [],
   "source": [
    "beds = [3, 2, 1, 1, 4]\n",
    "baths = [1.5, 1, 1, 1, 1]\n",
    "lat = [40.7145, 40.7947, 40.7388, 40.7539, 40.8241]\n",
    "long = [-73.9425, -73.9667, -74.0018, -73.9677, -73.9493]\n",
    "price = [3000, 5465, 2850, 3275, 3350]"
   ]
  },
  {
   "cell_type": "code",
   "execution_count": null,
   "metadata": {},
   "outputs": [],
   "source": [
    "apt_dict = {\"bedrooms\":beds, \"bathrooms\":baths, \"latitude\":lat, \"longitude\":long, \"price\":price}"
   ]
  },
  {
   "cell_type": "code",
   "execution_count": null,
   "metadata": {},
   "outputs": [],
   "source": [
    "apt_dict"
   ]
  },
  {
   "cell_type": "code",
   "execution_count": null,
   "metadata": {},
   "outputs": [],
   "source": [
    "apt_dict.keys()"
   ]
  },
  {
   "cell_type": "code",
   "execution_count": null,
   "metadata": {},
   "outputs": [],
   "source": [
    "apt_dict.values()"
   ]
  },
  {
   "cell_type": "code",
   "execution_count": null,
   "metadata": {},
   "outputs": [],
   "source": [
    "for key, value in apt_dict.items():\n",
    "    print(key, value)"
   ]
  },
  {
   "cell_type": "code",
   "execution_count": null,
   "metadata": {},
   "outputs": [],
   "source": [
    "apts = pd.DataFrame({\"bedrooms\":beds, \"bathrooms\":baths, \"latitude\":lat, \"longitude\":long, \"price\":price})\n",
    "apts"
   ]
  },
  {
   "cell_type": "code",
   "execution_count": null,
   "metadata": {},
   "outputs": [],
   "source": [
    "model = {}"
   ]
  },
  {
   "cell_type": "code",
   "execution_count": null,
   "metadata": {},
   "outputs": [],
   "source": [
    "def train_memorize(bedrooms, bathrooms, latitude, longitude, price):\n",
    "    model[(bedrooms, bathrooms, latitude, longitude)] = price"
   ]
  },
  {
   "cell_type": "code",
   "execution_count": null,
   "metadata": {},
   "outputs": [],
   "source": [
    "train_memorize(3., 1.5, 40.7145, -73.9425, 3000)\n",
    "train_memorize(2., 1., 40.7947, -73.9667, 5465)\n",
    "train_memorize( 1., 1., 40.7388, -74.0018, 2850)\n",
    "train_memorize(1., 1., 40.7539, -73.9677, 3275)\n",
    "train_memorize(4., 1., 40.8241, -73.9493, 3350)"
   ]
  },
  {
   "cell_type": "code",
   "execution_count": null,
   "metadata": {},
   "outputs": [],
   "source": [
    "model"
   ]
  },
  {
   "cell_type": "code",
   "execution_count": null,
   "metadata": {},
   "outputs": [],
   "source": [
    "model[(3.0, 1.5, 40.7145, -73.9425)]"
   ]
  },
  {
   "cell_type": "code",
   "execution_count": null,
   "metadata": {},
   "outputs": [],
   "source": [
    "model[(4.0, 1.5, 40.7145, -73.9425)]"
   ]
  },
  {
   "cell_type": "code",
   "execution_count": null,
   "metadata": {},
   "outputs": [],
   "source": [
    "model = {}\n",
    "model"
   ]
  },
  {
   "cell_type": "code",
   "execution_count": null,
   "metadata": {},
   "outputs": [],
   "source": [
    "for _, row in apts.iterrows():\n",
    "    model[tuple(row.values[0:4])] = row.values[4]    "
   ]
  },
  {
   "cell_type": "code",
   "execution_count": null,
   "metadata": {},
   "outputs": [],
   "source": [
    "model"
   ]
  },
  {
   "cell_type": "code",
   "execution_count": null,
   "metadata": {},
   "outputs": [],
   "source": [
    "model[(1, 1, 40.7539, -73.9677)]"
   ]
  },
  {
   "cell_type": "code",
   "execution_count": null,
   "metadata": {},
   "outputs": [],
   "source": [
    "model[(1, 1, 40., -73.)]"
   ]
  },
  {
   "cell_type": "code",
   "execution_count": null,
   "metadata": {},
   "outputs": [],
   "source": []
  },
  {
   "cell_type": "code",
   "execution_count": null,
   "metadata": {},
   "outputs": [],
   "source": []
  },
  {
   "cell_type": "code",
   "execution_count": null,
   "metadata": {},
   "outputs": [],
   "source": [
    "beds = [3, 2, 1, 1, 4, 0, 0, 0, 0]\n",
    "baths = [1.5, 1, 1, 1, 1, 1, 1, 1, 1]\n",
    "lat = [40.7145, 40.7947, 40.7388, 40.7539, 40.8241, 40.7073, 40.7073, 40.7073, 40.7073]\n",
    "long = [-73.9425, -73.9667, -74.0018, -73.9677, -73.9493, -73.9664, -73.9664, -73.9664, -73.9664]\n",
    "price = [3000, 5465, 2850, 3275, 3350, 2650, 2850, 2950, 2850]"
   ]
  },
  {
   "cell_type": "code",
   "execution_count": null,
   "metadata": {},
   "outputs": [],
   "source": [
    "apts_not_unique = pd.DataFrame({\"bedrooms\":beds, \"bathrooms\":baths, \"latitude\":lat, \"longitude\":long, \"price\":price})\n",
    "apts_not_unique"
   ]
  },
  {
   "cell_type": "code",
   "execution_count": null,
   "metadata": {},
   "outputs": [],
   "source": [
    "for _, row in apts_not_unique.iterrows():\n",
    "    model[tuple(row.values[0:4])] = row.values[4] "
   ]
  },
  {
   "cell_type": "code",
   "execution_count": null,
   "metadata": {},
   "outputs": [],
   "source": [
    "model"
   ]
  },
  {
   "cell_type": "code",
   "execution_count": null,
   "metadata": {},
   "outputs": [],
   "source": [
    "apts_avg = apts_not_unique.groupby(['bedrooms', 'bathrooms', 'latitude', 'longitude']).agg({'price': ['mean']}).reset_index()\n",
    "apts_avg"
   ]
  },
  {
   "cell_type": "code",
   "execution_count": null,
   "metadata": {},
   "outputs": [],
   "source": [
    "for i, row in apts_avg.iterrows():\n",
    "    print(i, row.values)\n",
    "    model[tuple(row.values[0:4])] = row.values[4] "
   ]
  },
  {
   "cell_type": "code",
   "execution_count": null,
   "metadata": {},
   "outputs": [],
   "source": [
    "model"
   ]
  },
  {
   "cell_type": "code",
   "execution_count": null,
   "metadata": {},
   "outputs": [],
   "source": []
  },
  {
   "cell_type": "markdown",
   "metadata": {},
   "source": [
    "## Exercise 1\n",
    "\n",
    "Using `apts_not_unique`, create a model that groups by number of bedrooms and averages the price. How many entries are in your model?"
   ]
  },
  {
   "cell_type": "code",
   "execution_count": null,
   "metadata": {},
   "outputs": [],
   "source": []
  },
  {
   "cell_type": "markdown",
   "metadata": {},
   "source": [
    "## Exercise 2\n",
    "\n",
    "Using `apts_not_unique`, create a model that groups by number of bathrooms and averages the price. How many entries are in your model?"
   ]
  },
  {
   "cell_type": "code",
   "execution_count": null,
   "metadata": {},
   "outputs": [],
   "source": []
  },
  {
   "cell_type": "markdown",
   "metadata": {},
   "source": [
    "## Exercise 3\n",
    "\n",
    "Caculate the mean absolute error of the model in **Exercise 1**."
   ]
  },
  {
   "cell_type": "code",
   "execution_count": null,
   "metadata": {},
   "outputs": [],
   "source": []
  },
  {
   "cell_type": "markdown",
   "metadata": {},
   "source": [
    "## Exercise 4\n",
    "\n",
    "Caculate the mean absolute error of the model in **Exercise 2**."
   ]
  },
  {
   "cell_type": "code",
   "execution_count": null,
   "metadata": {},
   "outputs": [],
   "source": []
  }
 ],
 "metadata": {
  "kernelspec": {
   "display_name": "Python 3 (ipykernel)",
   "language": "python",
   "name": "python3"
  },
  "language_info": {
   "codemirror_mode": {
    "name": "ipython",
    "version": 3
   },
   "file_extension": ".py",
   "mimetype": "text/x-python",
   "name": "python",
   "nbconvert_exporter": "python",
   "pygments_lexer": "ipython3",
   "version": "3.9.13"
  }
 },
 "nbformat": 4,
 "nbformat_minor": 4
}
